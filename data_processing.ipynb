{
 "cells": [
  {
   "cell_type": "code",
   "execution_count": 23,
   "metadata": {},
   "outputs": [],
   "source": [
    "SAVE_TO_FILE_NAME = \"output.json\""
   ]
  },
  {
   "cell_type": "code",
   "execution_count": 24,
   "metadata": {},
   "outputs": [],
   "source": [
    "# Open test.json and load to pandas dataframe\n",
    "import pandas as pd\n",
    "import json\n",
    "\n",
    "with open(\"test.json\") as f:\n",
    "    data = json.load(f)\n",
    "df = pd.json_normalize(data)\n",
    "# Save the dataframe to a JSON file\n",
    "\n"
   ]
  },
  {
   "cell_type": "code",
   "execution_count": 31,
   "metadata": {},
   "outputs": [
    {
     "name": "stdout",
     "output_type": "stream",
     "text": [
      "                                                 url               lastmod  \\\n",
      "0  https://www.nytimes.com/2025/03/08/climate/noa...  2025-03-10T17:32:03Z   \n",
      "1  https://www.nytimes.com/2025/03/10/world/asia/...  2025-03-10T17:50:04Z   \n",
      "2  https://www.nytimes.com/2025/03/09/opinion/mus...  2025-03-10T17:38:35Z   \n",
      "3  https://www.nytimes.com/2025/03/08/business/ec...  2025-03-10T17:29:22Z   \n",
      "4  https://www.nytimes.com/athletic/6190647/2025/...  2025-03-10T17:41:55Z   \n",
      "\n",
      "  image_url                                              title  \\\n",
      "0      None  More NOAA Employees May Be Let Go, Making 20% ...   \n",
      "1      None  Covid-19: Enduring Images of a Global Crisis, ...   \n",
      "2      None  Opinion | Musk’s Tweet-Fueled Bubble May Be Ab...   \n",
      "3      None  Trump’s Immigration Crackdown Could Disrupt St...   \n",
      "4      None  Chiefs bringing in Jaylon Moore to play left t...   \n",
      "\n",
      "                                             summary  \\\n",
      "0  Together with recent firings and resignations,...   \n",
      "1  New York Times photographers covered Covid-19 ...   \n",
      "2  His greatest achievement is building a financi...   \n",
      "3  Shrinking cities have tried to stabilize their...   \n",
      "4  At age 27, Moore will become a first-time star...   \n",
      "\n",
      "                                           embedding  \n",
      "0  [0.03772561863181664, 0.0014692898350413344, 0...  \n",
      "1  [0.023027036111747765, 0.023183478559131623, 0...  \n",
      "2  [0.03152594023810689, 0.01123653946405356, 0.0...  \n",
      "3  [0.03672978690628583, 0.026952403016536064, 0....  \n",
      "4  [0.009536317616445402, 0.02582527052887001, 0....  \n"
     ]
    }
   ],
   "source": [
    "\n",
    "# Add random cosine embeddings to all rows\n",
    "import numpy as np\n",
    "def random_cosine_embedding(size):\n",
    "    # Generate a random vector\n",
    "    vector = np.random.rand(size)\n",
    "    # Normalize the vector to have a unit norm\n",
    "    norm = np.linalg.norm(vector)\n",
    "    return vector / norm\n",
    "\n",
    "df[\"embedding\"] = [random_cosine_embedding(1536) for _ in range(len(df))]\n",
    "# Make the embedding saveable to JSON\n",
    "df[\"embedding\"] = df[\"embedding\"].apply(lambda x: x.tolist())\n",
    "# print first 5 rows\n",
    "print(df.head())\n"
   ]
  },
  {
   "cell_type": "code",
   "execution_count": null,
   "metadata": {},
   "outputs": [],
   "source": [
    "# Save to json (as a list of dictionaries)\n",
    "with open(SAVE_TO_FILE_NAME, \"w\") as f:\n",
    "    json.dump(df.to_dict(orient=\"records\"), f, indent=4)"
   ]
  },
  {
   "cell_type": "code",
   "execution_count": null,
   "metadata": {},
   "outputs": [],
   "source": []
  }
 ],
 "metadata": {
  "kernelspec": {
   "display_name": ".venv",
   "language": "python",
   "name": "python3"
  },
  "language_info": {
   "codemirror_mode": {
    "name": "ipython",
    "version": 3
   },
   "file_extension": ".py",
   "mimetype": "text/x-python",
   "name": "python",
   "nbconvert_exporter": "python",
   "pygments_lexer": "ipython3",
   "version": "3.13.1"
  }
 },
 "nbformat": 4,
 "nbformat_minor": 2
}
